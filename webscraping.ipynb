{
  "nbformat": 4,
  "nbformat_minor": 0,
  "metadata": {
    "colab": {
      "provenance": []
    },
    "kernelspec": {
      "name": "python3",
      "display_name": "Python 3"
    },
    "language_info": {
      "name": "python"
    }
  },
  "cells": [
    {
      "cell_type": "code",
      "execution_count": null,
      "metadata": {
        "colab": {
          "base_uri": "https://localhost:8080/"
        },
        "id": "1mwdwS9m05Jo",
        "outputId": "a1881a7a-78b6-4ef1-d0ec-433b7ad5e0f9"
      },
      "outputs": [
        {
          "output_type": "stream",
          "name": "stdout",
          "text": [
            "[1. Go on a walking tour of your city., 2. Spend a day swimming and exploring a beach or lake., 3. Go on a bike ride together., 4. Run or jog together., 5. Visit an off-leash dog park where your dog can romp with other dogs., 6. Make a puzzle for your dog to solve., 7. Take an agility or obedience training class., 8. Stock up on toys together at your favorite pet-friendly store., 9. Take your dog on a boat ride. , 10. Teach your dog a new trick., 11. Play in a sprinkler, leaves or snow., 12. Enjoy a stay at a pet-friendly hotel or bed and breakfast., 13. Throw a puppy party., 14. Find a unique spot for an Instagram photoshoot., 15. Netflix and nap., 16. Take your dog to work., 17. Give your dog a mani-pedi., 18. Book a “doga” session., 19. Sing to your dog. , 20. Practice patience by balancing treats on your pet’s nose., 21. Snag a puppuccino at Starbucks., House sitting rates: How to determine fair pay every time, 7 flexible, in-demand jobs during back-to-school season]\n",
            "[. Go on a walking tour of your city. \n",
            ". Spend a day swimming and exploring a beach or lake. \n",
            ". Go on a bike ride together. \n",
            ". Run or jog together. \n",
            ". Visit an off-leash dog park where your dog can romp with other dogs. \n",
            ". Make a puzzle for your dog to solve. \n",
            ". Take an agility or obedience training class. \n",
            ". Stock up on toys together at your favorite pet-friendly store. \n",
            ". Take your dog on a boat ride.  \n",
            ". Teach your dog a new trick. \n",
            ". Play in a sprinkler \n",
            "leaves or snow. \n",
            ". Enjoy a stay at a pet-friendly hotel or bed and breakfast. \n",
            ". Throw a puppy party. \n",
            ". Find a unique spot for an Instagram photoshoot. \n",
            ". Netflix and nap. \n",
            ". Take your dog to work. \n",
            ". Give your dog a mani-pedi. \n",
            ". Book a “doga” session. \n",
            ". Sing to your dog.  \n",
            ". Practice patience by balancing treats on your pet’s nose. \n",
            ". Snag a puppuccino at Starbucks. \n",
            "House sitting rates: How to determine fair pay every time \n",
            " flexible \n",
            "in-demand jobs during back-to-school season]\n"
          ]
        }
      ],
      "source": [
        "from bs4 import BeautifulSoup\n",
        "from lxml.html import fromstring\n",
        "import requests\n",
        "\n",
        "session = requests.session()\n",
        "req = session.get('https://www.care.com/c/101-things-to-do-with-your-dog/')\n",
        "doc = BeautifulSoup(req.content)\n",
        "myString = doc.findAll('h3', { \"class\" : \"mw-headline\" });\n",
        "parserObj = fromstring(str(myString))\n",
        "outputString = str(parserObj.text_content())\n",
        "print(outputString)\n",
        "outputString = ''.join([i for i in outputString if not i.isdigit()])\n",
        "print(outputString.replace(', ', \" \\n\"))"
      ]
    }
  ]
}